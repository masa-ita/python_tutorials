{
 "cells": [
  {
   "cell_type": "markdown",
   "metadata": {},
   "source": [
    "# matplotlib 入門"
   ]
  },
  {
   "cell_type": "markdown",
   "metadata": {},
   "source": [
    "## matplotlibとは？"
   ]
  },
  {
   "cell_type": "markdown",
   "metadata": {},
   "source": [
    "matplotlibはPythonとNumPyのための標準的なグラフ描画ライブラリです。主として2次元のグラフを描画するのに使われていますが、一部3次元グラフにも対応しています。\n",
    "matplotlibで描いたグラフは、ベクトル形式を含む様々なフォーマットで出力することができ、wxPython、Qt、GTKといったPythonのGUIツールキットにおいてグラフを描画するのにも使えます。  \n",
    "大学などで使われている商用ソフトMATLABと類似のAPIも備わっています。"
   ]
  },
  {
   "cell_type": "markdown",
   "metadata": {},
   "source": [
    "## インストールと初期設定"
   ]
  },
  {
   "cell_type": "markdown",
   "metadata": {},
   "source": [
    "matplotlibは通常のPythonライブラリと同様にpipを使ってインストールします。"
   ]
  },
  {
   "cell_type": "raw",
   "metadata": {},
   "source": [
    "!pip install matplotlib"
   ]
  },
  {
   "cell_type": "markdown",
   "metadata": {},
   "source": [
    "`matplotlib`をインポートする際には、`mpl`と略すのが慣例となっています。なお、簡単なグラフ作成の場合には`matplotlib`本体をインポートする必要はありませんが、詳細な設定を行う際には必要です。"
   ]
  },
  {
   "cell_type": "code",
   "execution_count": null,
   "metadata": {},
   "outputs": [],
   "source": [
    "import matplotlib as mpl"
   ]
  },
  {
   "cell_type": "markdown",
   "metadata": {},
   "source": [
    "グラフなどの描画には`matplotlib.pyplot`モジュールを使用します。こちらも`plt`と略すのが慣例となっています。"
   ]
  },
  {
   "cell_type": "code",
   "execution_count": null,
   "metadata": {},
   "outputs": [],
   "source": [
    "import matplotlib.pyplot as plt"
   ]
  },
  {
   "cell_type": "markdown",
   "metadata": {},
   "source": [
    "matplotlibは様々な描画モジュールを持っていますが、Jupyterノートブックに画像を表示するには、下記のマジックコマンドを使用します。"
   ]
  },
  {
   "cell_type": "code",
   "execution_count": null,
   "metadata": {},
   "outputs": [],
   "source": [
    "%matplotlib inline"
   ]
  },
  {
   "cell_type": "markdown",
   "metadata": {},
   "source": [
    "### 日本語のフォントと設定  "
   ]
  },
  {
   "cell_type": "markdown",
   "metadata": {},
   "source": [
    "matplotlibの既定のフォントは“DejaVu Sans”で日本語には対応していません。  \n",
    "また、matplotlibで使えるフォントの形式はTTF形式あるいはOTF形式に限られています。  \n",
    "一方、Windows 10 では日本語フォントはTTC形式がほとんどであり、TTF形式のフォントは「游明朝」“Yu Mincho”くらいしかありません。   \n",
    "このため、TTFあるいはOTF形式のオープンソースフォントを使うことが多いようです。無料で使用できるフォントの例としてはIPAのフォントやGoogleのフォントがあります。"
   ]
  },
  {
   "cell_type": "markdown",
   "metadata": {},
   "source": [
    "#### おすすめのフォント"
   ]
  },
  {
   "cell_type": "markdown",
   "metadata": {},
   "source": [
    "- IPAフォント: https://ipafont.ipa.go.jp/node26#ja ‒ IPAexGothic, IPAexMincho\n",
    "- Google Notoフォント: https://www.google.com/get/noto/ ‒ Noto Sans CJK JP, Noto Serif CJK JP  "
   ]
  },
  {
   "cell_type": "markdown",
   "metadata": {},
   "source": [
    "#### フォントのインストール"
   ]
  },
  {
   "cell_type": "markdown",
   "metadata": {},
   "source": [
    "フォントのインストール方法はOSによって異なります。"
   ]
  },
  {
   "cell_type": "markdown",
   "metadata": {},
   "source": [
    "##### Windows"
   ]
  },
  {
   "cell_type": "markdown",
   "metadata": {},
   "source": [
    "1. ダウンロードしたファイルを解凍します。\n",
    "1. コントロールパネルのフォントを開きます。（クラシック表示にする）\n",
    "1. 1でとりだした.ttfあるいは.otfファイルをドラッグアンドドロップします。"
   ]
  },
  {
   "cell_type": "markdown",
   "metadata": {},
   "source": [
    "##### Mac OS"
   ]
  },
  {
   "cell_type": "markdown",
   "metadata": {},
   "source": [
    "1. ダウンロードしたファイルを解凍します。\n",
    "1. Font Bookアプリケーションを起動します。\n",
    "1. 1でとりだした.ttfあるいは.otfファイルをドラッグアンドドロップします。\n",
    "\n",
    "あるいは解凍してできた.ttfファイルまたは.otfファイルをダブルクリックして表示されるダイアログで「フォントをインストール」をクリックします。"
   ]
  },
  {
   "cell_type": "markdown",
   "metadata": {},
   "source": [
    "##### Linux"
   ]
  },
  {
   "cell_type": "markdown",
   "metadata": {},
   "source": [
    "1. ホームディレクトリに`.fonts`ディレクトリを作成します。\n",
    "1. ダウンロードしたファイルを１で作成したディレクトリ(`~/.fonts`)に解凍します。\n",
    "1. `fc-cache -fv`コマンドを実行してフォントキャッシュを更新します。"
   ]
  },
  {
   "cell_type": "markdown",
   "metadata": {},
   "source": [
    "##### フォントキャッシュの削除"
   ]
  },
  {
   "cell_type": "markdown",
   "metadata": {},
   "source": [
    "matplotlibが使用するフォントファイルのリストはキャッシュされるため、フォントのインストールなどを行なった場合には、キャッシュファイルの削除を行う必要があります。  \n",
    "フォントキャッシュはユーザーのホームディレクトリの`.matplotlib`ディレクトリに作成されます。  \n",
    "下記のような名前のファイルがキャッシュファイルです。これらを削除してから、`matplotlib`をインポートし直します。\n",
    "\n",
    "* fontList.json\n",
    "* fontList.py3k.cache"
   ]
  },
  {
   "cell_type": "markdown",
   "metadata": {},
   "source": [
    "#### フォントの指定"
   ]
  },
  {
   "cell_type": "markdown",
   "metadata": {},
   "source": [
    "##### 設定ファイルによる指定"
   ]
  },
  {
   "cell_type": "markdown",
   "metadata": {},
   "source": [
    "matplotlibの設定ファイルにあるフォントセクションをカスタマイズする方法です。  \n",
    "matplotlibの設定ファイルは、Python3.6の場合、`<venvディレクトリ>/lib⁩/python3.6⁩/⁨site-packages⁩/⁨matplotlib⁩/⁨mpl-data/matplotlibrc⁩`に存在しますが、ホームディレクトリの`.matplotlib`ディレクトリに`matplotlibrc`があればこちらが優先されます。このため、ここにコピーしてから編集すると良いでしょう。  \n",
    "\n",
    "現在読み込まれている`matplotlibrc`の場所は下記のコードで確認できます。"
   ]
  },
  {
   "cell_type": "code",
   "execution_count": null,
   "metadata": {},
   "outputs": [],
   "source": [
    "mpl.matplotlib_fname()"
   ]
  },
  {
   "cell_type": "markdown",
   "metadata": {},
   "source": [
    "##### プログラム先頭での指定"
   ]
  },
  {
   "cell_type": "markdown",
   "metadata": {},
   "source": [
    "プログラムの先頭でmatplotlibrcの設定を上書きする方法です。"
   ]
  },
  {
   "cell_type": "code",
   "execution_count": null,
   "metadata": {},
   "outputs": [],
   "source": [
    "import matplotlib as mpl\n",
    "font = {\"family\":\"IPAPGothic\", \"size\": 12.0 }\n",
    "mpl.rc('font', **font) # mpl.rc('font', family='IPAPGothic', size=12.0)"
   ]
  },
  {
   "cell_type": "markdown",
   "metadata": {},
   "source": [
    "##### 描画の都度指定"
   ]
  },
  {
   "cell_type": "markdown",
   "metadata": {},
   "source": [
    "描画を行う都度設定を行う方法です。この他にテキスト出力を行う際に指定する方法もあります。\n",
    "\n",
    "ここでは、OSの種類によって既存のフォントを設定する例を示します。（ただし、AppleGothicはマイナス記号、ハイフンなどが文字化けします）"
   ]
  },
  {
   "cell_type": "code",
   "execution_count": null,
   "metadata": {},
   "outputs": [],
   "source": [
    "import platform\n",
    "\n",
    "pf = platform.system()\n",
    "\n",
    "if pf == 'Windows':\n",
    "    plt.rcParams['font.family'] = 'Yu Mincho'\n",
    "elif pf == 'Darwin':\n",
    "    plt.rcParams['font.family'] = 'AppleGothic'\n",
    "else:    \n",
    "    plt.rcParams['font.family'] = 'IPAexGothic'"
   ]
  },
  {
   "cell_type": "markdown",
   "metadata": {},
   "source": [
    "## 簡単なグラフを書く"
   ]
  },
  {
   "cell_type": "markdown",
   "metadata": {},
   "source": [
    "### 簡単な折れ線グラフ"
   ]
  },
  {
   "cell_type": "markdown",
   "metadata": {},
   "source": [
    "まずはよく使用する折れ線グラフを簡単に描いてみましょう。"
   ]
  },
  {
   "cell_type": "code",
   "execution_count": null,
   "metadata": {},
   "outputs": [],
   "source": [
    "import matplotlib.pyplot as plt\n",
    "\n",
    "plt.plot([1,2,3,4])\n",
    "plt.plot([3, 2, 1, 4])\n",
    "\n",
    "# 凡例の追加\n",
    "plt.legend(['系列１','系列２'])\n",
    "\n",
    "# グラフの保存（保存形式は拡張子で判断されます）\n",
    "plt.savefig('chart1.png')"
   ]
  },
  {
   "cell_type": "markdown",
   "metadata": {},
   "source": [
    "上記のようにデータが１系列の場合、横軸（x軸）にはデータのインデックス（0から始まる）が使用されます。"
   ]
  },
  {
   "cell_type": "markdown",
   "metadata": {},
   "source": [
    "## 2つのAPI"
   ]
  },
  {
   "cell_type": "markdown",
   "metadata": {},
   "source": [
    "matplotlibには2つのAPIが設けられています。  \n",
    "簡易な描画を行うためのステートフルAPIと、オブジェクトの階層構造によるオブジェクト指向APIです。"
   ]
  },
  {
   "cell_type": "markdown",
   "metadata": {},
   "source": [
    "### ステートフルAPI"
   ]
  },
  {
   "cell_type": "markdown",
   "metadata": {},
   "source": [
    "上記の例のように、pyplotモジュールの関数を連続して呼び出すことで描画を行う手法です。行った操作は状態として残ることになります。"
   ]
  },
  {
   "cell_type": "markdown",
   "metadata": {},
   "source": [
    "### オブジェクト指向API"
   ]
  },
  {
   "cell_type": "markdown",
   "metadata": {},
   "source": [
    "matplotlibはArtistとよばれるのオブジェクトの階層構造で構築されており、そのグラフはFigureインスタンスと、その中にある一つ以上のAxesインスタンスで構成されています。  \n",
    "Figureインスタンスは描画要素の入れ物（キャンバス）で、Axesは一つのグラフを描く領域（座標系）です。\n",
    "\n",
    "Figureインスタンスは、左下を(0,0)、右上を(1,1)とする座標系を持っており、Axesインスタンスの位置を指定する際などに使用されることがあります。\n",
    "\n",
    "一つの図に複数のグラフを描画したい場合、Figureインスタンスに複数のAxesインスタンスを配置することになります。"
   ]
  },
  {
   "cell_type": "markdown",
   "metadata": {},
   "source": [
    "## 様々なグラフ"
   ]
  },
  {
   "cell_type": "markdown",
   "metadata": {},
   "source": [
    "matplotlibでは2次元及び3次元のグラフを描画することができます。2次元の描画メソッドには次のようなものがあります。\n",
    "\n",
    "|メソッド|說明|\n",
    "|:---|:---|\n",
    "|plot|折れ線グラフ|\n",
    "|scatter|散布図|\n",
    "|step|階段状グラフ|\n",
    "|bar|縦棒グラフ|\n",
    "|barh|横棒グラフ|\n",
    "|errorbar|エラーバーグラフ|\n",
    "|hist|ヒストグラム|\n",
    "|fill|面グラフ|\n",
    "|quiver|ベクトルグラフ|\n",
    "|pie|円グラフ|\n",
    "|stem|離散データグラフ|\n",
    "|boxplot|箱ひげ図|\n",
    "|stackplot|積み上げ面グラフ|\n",
    "\n",
    "ここでは、機械学習などの際によく使用されるグラフを中心にいくつかを紹介します。"
   ]
  },
  {
   "cell_type": "markdown",
   "metadata": {},
   "source": [
    "### 折れ線グラフ"
   ]
  },
  {
   "cell_type": "code",
   "execution_count": null,
   "metadata": {
    "scrolled": true
   },
   "outputs": [],
   "source": [
    "import numpy as np\n",
    "import matplotlib.pyplot as plt\n",
    "\n",
    "x = np.linspace(0, 2 * np.pi, 100)\n",
    "y = np.sin(x)\n",
    "\n",
    "# キャンバスの初期化\n",
    "fig = plt.figure()\n",
    "# グラフ領域の追加（キャンバス内の位置とサイズ、色を指定した例）\n",
    "ax = fig.add_axes((0.1, 0.1, 0.8, 0.8), facecolor='#eeeeff')\n",
    "\n",
    "# グラフの描画\n",
    "ax.plot(x, y)\n",
    "plt.show()"
   ]
  },
  {
   "cell_type": "markdown",
   "metadata": {},
   "source": [
    "上記の例のように、キャンバス（Figure）の初期化と、グラフ描画領域（axes）の追加を順を追って行うこともできますが、これらを同時に行い、1つのキャンバスに複数グラフを描画するのにも使える`pyplot.subplots()`メソッドを使うことが多いです。"
   ]
  },
  {
   "cell_type": "markdown",
   "metadata": {},
   "source": [
    "### 散布図"
   ]
  },
  {
   "cell_type": "code",
   "execution_count": null,
   "metadata": {},
   "outputs": [],
   "source": [
    "import numpy as np\n",
    "import matplotlib.pyplot as plt\n",
    "\n",
    "N = 50\n",
    "x = np.random.rand(N)\n",
    "y = np.random.rand(N)\n",
    "z = np.sqrt(x**2 + y**2)\n",
    "\n",
    "fig, ax = plt.subplots()\n",
    "\n",
    "ax.scatter(x, y, s=80, c=z)"
   ]
  },
  {
   "cell_type": "markdown",
   "metadata": {},
   "source": [
    "Jupyter上でインライン表示を行っている場合、上記のように`pyplot.show()`を明示的に呼び出さなくともグラフは表示されます。ただ、戻り値が表示されてしまうので、これを見せたくない場合には`pyplot.show()`を明示的に呼び出すと良いでしょう。\n",
    "\n",
    "線グラフを作成する`axes.plot()`メソッドでも、後述するマーカーのみを表示することで、簡易的に散布図は作成できます。`axes.scatter()`では上記の例のように、もう一つの次元を色で表すことができたりします。"
   ]
  },
  {
   "cell_type": "markdown",
   "metadata": {},
   "source": [
    "### 棒グラフ"
   ]
  },
  {
   "cell_type": "code",
   "execution_count": null,
   "metadata": {},
   "outputs": [],
   "source": [
    "fig, ax = plt.subplots()\n",
    "\n",
    "ax.bar(['cat', 'dog', 'monkey', 'human'], [1, 2, 3, 4])"
   ]
  },
  {
   "cell_type": "markdown",
   "metadata": {},
   "source": [
    "x軸の描画位置を調整しながら複数回`axes.bar()`を複数回呼ぶことで、複数の数値を並べた棒で表すグラフを作ったり、`bottom`パラメータで棒の始点をずらすことで、積み上げ棒グラフを描画することができます。\n",
    "\n",
    "横棒グラフは`axes.barh()`メソッドを使うことで同様に作成可能です。"
   ]
  },
  {
   "cell_type": "markdown",
   "metadata": {},
   "source": [
    "###  ヒストグラム"
   ]
  },
  {
   "cell_type": "code",
   "execution_count": null,
   "metadata": {},
   "outputs": [],
   "source": [
    "x = np.random.normal(0, 1, 10000)\n",
    "\n",
    "fig, ax = plt.subplots()\n",
    "\n",
    "ax.hist(x, bins=50)\n",
    "plt.show()"
   ]
  },
  {
   "cell_type": "markdown",
   "metadata": {},
   "source": [
    "上記の例では、`bins`パラメータでヒストグラムの区間の数を指定しています。この場合には最大値と最小値の間を等間隔で区分することになります。\n",
    "この他、数列を与えることで区間の境界値を指定することもできます。また、`density=True`を指定することで、個数ではなく構成比を表示することも可能です。"
   ]
  },
  {
   "cell_type": "markdown",
   "metadata": {},
   "source": [
    "## 複数のグラフ"
   ]
  },
  {
   "cell_type": "markdown",
   "metadata": {},
   "source": [
    "1つのキャンバスに複数のグラフを並べて作成する場合には、`pyplot.subplot()`メソッドに行数、列数を指定します。  \n",
    "戻り値のaxesオブジェクトは2次元の配列となります。\n",
    "\n",
    "`sharex`, `sharey` パラメータをTrueに設定することで、x軸、y軸を共通にし、軸の目盛ラベルを表示させないようにすることもできます。"
   ]
  },
  {
   "cell_type": "code",
   "execution_count": null,
   "metadata": {},
   "outputs": [],
   "source": [
    "x = np.linspace(0, 2 * np.pi, 100)\n",
    "\n",
    "fig, ax = plt.subplots(2, 2, sharex=True, sharey=True)\n",
    "\n",
    "ax[0, 0].plot(x, np.sin(x))\n",
    "ax[0, 1].plot(x, np.cos(x))\n",
    "ax[1, 0].plot(x, np.sin(2*x))\n",
    "ax[1, 1].plot(x, np.cos(3*x))"
   ]
  },
  {
   "cell_type": "markdown",
   "metadata": {},
   "source": [
    "## 様々なグラフ要素"
   ]
  },
  {
   "cell_type": "markdown",
   "metadata": {},
   "source": [
    "### タイトル・軸ラベル"
   ]
  },
  {
   "cell_type": "markdown",
   "metadata": {},
   "source": [
    "`axes.set_title()`メソッドでグラフのタイトルを、`axes.set_xlabel()`, `axes.set_ylabel()`メソッドを呼ぶことでそれぞれx軸、y軸のラベルを指定できます。  \n",
    "単純なテキスト以外に、LaTexで数式などを表記することも可能です。この場合、\\をエスケープ文字として解釈しないよう、`r'...'`リテラルで「生の」文字列を指定することができます。  \n",
    "また、一部のフォントだけを変更したい場合、`fontdict`パラメータで指定することが可能です。"
   ]
  },
  {
   "cell_type": "code",
   "execution_count": null,
   "metadata": {},
   "outputs": [],
   "source": [
    "x = np.linspace(0, 2 * np.pi, 100)\n",
    "y = np.sin(x)\n",
    "\n",
    "fig, ax  = plt.subplots()\n",
    "\n",
    "font = {'family': 'Arial',\n",
    "        'color': 'red',\n",
    "        'weight': 'bold',\n",
    "        'size': 16,\n",
    "        'style': 'italic',}\n",
    "\n",
    "ax.plot(x, y)\n",
    "ax.set_title('グラフタイトル')\n",
    "ax.set_xlabel(r'$x\\ [\\mathrm{s}]$')\n",
    "ax.set_ylabel(r'$f(x)=\\sin(x)$', fontdict=font)\n",
    "plt.show()"
   ]
  },
  {
   "cell_type": "markdown",
   "metadata": {},
   "source": [
    "### 凡例"
   ]
  },
  {
   "cell_type": "markdown",
   "metadata": {},
   "source": [
    "凡例を表示するには`axes.legend()`メソッドを呼び出します。  \n",
    "下記の例のように、描画したオブジェクトにラベルを指定しておけば、`axes.legend()`メソッドで指定することなく表示できます。\n",
    "\n",
    "パラメータでしていない限り、できるだけグラフと重ならない位置に凡例が表示されます。  \n",
    "`loc='upper right'`のようにlocパラメータで位置を指定することもできます。"
   ]
  },
  {
   "cell_type": "code",
   "execution_count": null,
   "metadata": {},
   "outputs": [],
   "source": [
    "x = np.linspace(0, 2 * np.pi, 100)\n",
    "y1 = np.sin(x)\n",
    "y2 = np.cos(x)\n",
    "\n",
    "fig, ax = plt.subplots()\n",
    "\n",
    "ax.plot(x, y1, label='正弦波')\n",
    "ax.plot(x, y2, label=r'$\\cos(x)$')\n",
    "ax.legend()"
   ]
  },
  {
   "cell_type": "markdown",
   "metadata": {},
   "source": [
    "###  線とマーカー"
   ]
  },
  {
   "cell_type": "markdown",
   "metadata": {},
   "source": [
    "描画メソッドの呼び出しにパラメータを与えることで、線の色や種類、幅、マーカーの形や大きさ、色などを指定できます。"
   ]
  },
  {
   "cell_type": "markdown",
   "metadata": {},
   "source": [
    "#### 線とマーカー関係のパラメータ\n",
    "\n",
    "|引数|說明|\n",
    "|:---|:---|\n",
    "|color/c|線の色|\n",
    "|alpha|透明度|\n",
    "|linestye/ls|線種|\n",
    "|linewidth/lw|線幅|\n",
    "|marker|マーカーのスタイル|\n",
    "|markersize/ms|マーカーの大きさ|\n",
    "|markerfacecolor/mfc|マーカーの塗りつぶしの色|\n",
    "|markeredgewidth/mew|マーカーの縁の幅|\n",
    "|markeredgecolor/mec|マーカーの縁の色|\n",
    "\n",
    "#### 色のオプション\n",
    "\n",
    "|色|RGB|省略文字列|\n",
    "|:---|:---|:---:|\n",
    "|red|(1,0,0)|'r'|\n",
    "|green|(0,1,0)|'g'|\n",
    "|blue|(0,0,1)|'b'|\n",
    "|yellow|(1,1,0)|'y'|\n",
    "|magenta|(1,0,1)|'m'|\n",
    "|cyan|(0,1,1)|'c'|\n",
    "|black|(0,0,0)|'b'|\n",
    "|white|(1,1,1)|'w'|\n",
    "\n",
    "#### 線種のオプション\n",
    "\n",
    "|線種|文字列|省略文字列|\n",
    "|:---|:---|:---:|\n",
    "|線なし|''|''|\n",
    "|実線|'solid'|'-'|\n",
    "|点線|'dotted'|':'|\n",
    "|破線|'dashed'|'--'|\n",
    "|1点鎖線|'dashdot'|'-.'|"
   ]
  },
  {
   "cell_type": "markdown",
   "metadata": {},
   "source": [
    "### 線の例"
   ]
  },
  {
   "cell_type": "code",
   "execution_count": null,
   "metadata": {},
   "outputs": [],
   "source": [
    "x = np.linspace(0,5, 10)\n",
    "\n",
    "fig, ax = plt.subplots(1,3, figsize=(8, 3), sharey=True)\n",
    "\n",
    "ax[0].plot(x, x, 'r')\n",
    "ax[0].plot(x, x+1, c=(1,0,1))\n",
    "ax[0].plot(x, x+2, '#FFDD00')\n",
    "ax[0].plot(x, x+3, 'skyblue')\n",
    "ax[0].plot(x, x+4, '0.6')\n",
    "ax[0].set_title('色')\n",
    "\n",
    "ax[1].plot(x, x, ':')\n",
    "ax[1].plot(x, x+1, '--')\n",
    "ax[1].plot(x, x+2, 'g-')\n",
    "ax[1].plot(x, x+3, 'navy', ls='-.')\n",
    "ax[1].set_title('線種')\n",
    "\n",
    "ax[2].plot(x, x, 'm-.', lw=0.5)\n",
    "ax[2].plot(x, x+1, c='indigo', lw=2.0)\n",
    "ax[2].plot(x, x+2, '0.4', lw=3.0)\n",
    "ax[2].plot(x, x+3, lw=5.0)\n",
    "ax[2].set_title('線幅')"
   ]
  },
  {
   "cell_type": "markdown",
   "metadata": {},
   "source": [
    "上記の例のように複数の指定をまとめて行うこともできます。"
   ]
  },
  {
   "cell_type": "markdown",
   "metadata": {},
   "source": [
    "### マーカーの例"
   ]
  },
  {
   "cell_type": "markdown",
   "metadata": {},
   "source": [
    "#### マーカーのスタイル\n",
    "\n",
    "|値|マーカー|\n",
    "|:---|:---|\n",
    "|'.', ',', 'o'|点、ピクセル、円|\n",
    "|'<', '>', '^', 'v'|三角形（左、右、上、下）|\n",
    "|'1', '2', '3', '4'|三面角（下、上、左、右）|\n",
    "|'s', 'p', '8', 'h', 'H'|四角形、五角形、八角形、六角形|\n",
    "|'*', '+', 'x', 'D', 'd'|星、＋記号、x印、ひし形、薄いひし形|\n",
    "|'&#124;', '_'|垂直線、水平線|\n",
    "|0, 1, 2, 3|目盛線（左、右、上、下）|\n",
    "|4, 5, 6, 7|挿入記号（左、右、上、下）|\n"
   ]
  },
  {
   "cell_type": "code",
   "execution_count": null,
   "metadata": {},
   "outputs": [],
   "source": [
    "x = np.linspace(0, 5, 10)\n",
    "y = np.ones_like(x)\n",
    "\n",
    "star = mpl.path.Path.unit_regular_star(7)\n",
    "\n",
    "fig, ax = plt.subplots()\n",
    "\n",
    "ax.plot(x, y, 'D', ms=10)\n",
    "ax.plot(x, y+1, '^', ms=10, mfc='w', mew=2.0, mec='r')\n",
    "ax.plot(x, y+2, 'y*-', ms=10)\n",
    "ax.plot(x, y+3, '--', marker='$\\heartsuit$', ms=10)\n",
    "ax.plot(x, y+4, 'b:', marker=(5, 0, 30), ms=10, mfc='violet')\n",
    "ax.plot(x, y+5, ' ', ms=10, marker=star)\n",
    "ax.set_ylim(0, 7)"
   ]
  },
  {
   "cell_type": "markdown",
   "metadata": {},
   "source": [
    "上記のようにmatplotlibで予め定義されている図形や、LaTex記法も使用できます。"
   ]
  },
  {
   "cell_type": "markdown",
   "metadata": {},
   "source": [
    "###  座標軸"
   ]
  },
  {
   "cell_type": "markdown",
   "metadata": {},
   "source": [
    "#### 座標軸の上限下限の設定"
   ]
  },
  {
   "cell_type": "markdown",
   "metadata": {},
   "source": [
    "座標軸の下限上限は`axes.set_xlim()`メソッド、`axes.set_ylim()`メソッドを使って指定できます。"
   ]
  },
  {
   "cell_type": "code",
   "execution_count": null,
   "metadata": {},
   "outputs": [],
   "source": [
    "x = np.linspace(0, 2 * np.pi, 100)\n",
    "y1 = np.sin(x)\n",
    "y2 = np.cos(x)\n",
    "\n",
    "fig, ax = plt.subplots()\n",
    "\n",
    "ax.plot(x, y1)\n",
    "ax.plot(x, y2)\n",
    "ax.set_xlim(-1, 8)\n",
    "ax.set_ylim(-2, 2)\n",
    "plt.show()"
   ]
  },
  {
   "cell_type": "markdown",
   "metadata": {},
   "source": [
    "#### 目盛りと目盛りラベルの設定"
   ]
  },
  {
   "cell_type": "markdown",
   "metadata": {},
   "source": [
    "座標軸の目盛りは、`axes.set_xticks()`、`axes.set_yticks()`を使用して指定します。  \n",
    "目盛りにラベルを指定する場合には、`axes.set_xticklabels()`、`axes.set_yticklabels()`メソッドを使用します。  \n",
    "\n",
    "通常の目盛りの他に細かい目盛りを表示するには、`axes.xaxis.set_minior_locator()`あるいは`axes.yaxis.set_minior_locator()`を使用します。"
   ]
  },
  {
   "cell_type": "code",
   "execution_count": null,
   "metadata": {},
   "outputs": [],
   "source": [
    "x = np.linspace(0, 2 * np.pi, 100)\n",
    "y = np.sin(x)\n",
    "\n",
    "fig, ax = plt.subplots(1, 2, figsize=(8, 4))\n",
    "\n",
    "ax[0].plot(x, y)\n",
    "ax[0].set_title('set_xticks')\n",
    "ax[0].set_xticks([0, 3, 6])\n",
    "ax[0].set_yticks([-1, 0, 1])\n",
    "\n",
    "ax[1].plot(x, y)\n",
    "ax[1].set_title('set_xticklabels')\n",
    "ax[1].set_xticks([0, np.pi, 2*np.pi])\n",
    "ax[1].set_xticklabels([0, r'$\\pi$', r'$2\\pi$'])\n",
    "x_minor_ticker = mpl.ticker.FixedLocator([0, np.pi/2, 3*np.pi/2])\n",
    "ax[1].xaxis.set_minor_locator(x_minor_ticker)\n",
    "ax[1].set_yticks([-1, 0, 1])\n",
    "ax[1].yaxis.set_minor_locator(mpl.ticker.MaxNLocator(5))"
   ]
  },
  {
   "cell_type": "markdown",
   "metadata": {},
   "source": [
    "#### 対数グラフ"
   ]
  },
  {
   "cell_type": "markdown",
   "metadata": {},
   "source": [
    "グラフを対数表示するには、`axes.loglog()`（両対数グラフ）、`axes.semilogx()`（x軸対数グラフ）、`axes.semilogy()`（y軸対数グラフ）を使用します。"
   ]
  },
  {
   "cell_type": "code",
   "execution_count": null,
   "metadata": {},
   "outputs": [],
   "source": [
    "x = np.linspace(0, 10, 100)\n",
    "y = 10**x\n",
    "\n",
    "fig, ax = plt.subplots(1, 3, figsize=(12, 3.5))\n",
    "\n",
    "ax[0].loglog(x, y)\n",
    "\n",
    "ax[1].semilogx(x, y)\n",
    "\n",
    "ax[2].semilogy(x, y)"
   ]
  },
  {
   "cell_type": "markdown",
   "metadata": {},
   "source": [
    "matplotlibの詳細については、公式ドキュメント等を参照ください。\n",
    "\n",
    "- [公式ドキュメント（英語）](https://matplotlib.org)\n",
    "- [matplotlib入門-りんごがでている](http://bicycle1885.hatenablog.com/entry/2014/02/14/023734)\n",
    "- [早く知っておきたかったmatplotlibの基礎知識、あるいは見た目の調整が捗るArtistの話](https://qiita.com/skotaro/items/08dc0b8c5704c94eafb9)"
   ]
  },
  {
   "cell_type": "markdown",
   "metadata": {},
   "source": [
    "## 画像の表示"
   ]
  },
  {
   "cell_type": "markdown",
   "metadata": {},
   "source": [
    "matplotlibを使うと数値行列を画像として描画することができます。  \n",
    "画像を表示する`axes.implot()`メソッドは、NumPy配列あるいは後述のPILの画像を引数とすることができます。  \n",
    "数値行列は浮動小数点数の場合`[0,1]`の範囲、符号なし整数の場合、`[0,255]`の範囲であることが想定されており、これを超える数値はこの範囲にクリッピングされます。"
   ]
  },
  {
   "cell_type": "markdown",
   "metadata": {},
   "source": [
    "### カラーマップによる表示"
   ]
  },
  {
   "cell_type": "markdown",
   "metadata": {},
   "source": [
    "2次元の行列は、数値を色に変換するカラーマップを使って表示されます。"
   ]
  },
  {
   "cell_type": "code",
   "execution_count": null,
   "metadata": {},
   "outputs": [],
   "source": [
    "x = np.array([[0.0, 0.1, 0.3],\n",
    "              [0.2, 0.5, 0.8],\n",
    "              [0.4, 0.7, 0.6]])\n",
    "\n",
    "plt.imshow(x, cmap='coolwarm')\n",
    "plt.show()"
   ]
  },
  {
   "cell_type": "markdown",
   "metadata": {},
   "source": [
    "### カラー画像の表示"
   ]
  },
  {
   "cell_type": "markdown",
   "metadata": {},
   "source": [
    "`(m, n, 3)`の形状の行列はRGBのカラー画像として表示されます。  \n",
    "`(m, n, 4）`の形状の行列は、透明度を表すアルファチャネルを加えたRGBAのカラー画像として表示されます。"
   ]
  },
  {
   "cell_type": "code",
   "execution_count": null,
   "metadata": {},
   "outputs": [],
   "source": [
    "x = np.random.rand(4, 4, 3)\n",
    "print(x)\n",
    "\n",
    "plt.imshow(x)\n",
    "plt.show()"
   ]
  },
  {
   "cell_type": "code",
   "execution_count": null,
   "metadata": {},
   "outputs": [],
   "source": [
    "x = np.random.randint(0, 255, (4, 4, 3), dtype=np.uint8)\n",
    "print(x)\n",
    "\n",
    "plt.imshow(x)\n",
    "plt.show()"
   ]
  },
  {
   "cell_type": "markdown",
   "metadata": {},
   "source": [
    "### PIL（Pillow）ライブラリを使う"
   ]
  },
  {
   "cell_type": "markdown",
   "metadata": {},
   "source": [
    "PILはPythonで様々な画像処理を行うことができるライブラリです。  \n",
    "\n",
    "https://pypi.org/project/Pillow/\n",
    "\n",
    "現在はPIL互換のPillowライブラリが主として使用されます。  \n",
    "（なお、高度な画像処理を行うにはC/C++で記述されたOpenCVライブラリを使用します）"
   ]
  },
  {
   "cell_type": "code",
   "execution_count": null,
   "metadata": {},
   "outputs": [],
   "source": [
    "!pip install pillow"
   ]
  },
  {
   "cell_type": "markdown",
   "metadata": {},
   "source": [
    "### 画像ファイルの読み込みとNumPy配列への変換"
   ]
  },
  {
   "cell_type": "markdown",
   "metadata": {},
   "source": [
    "PIL(Pillow)の中心はImageクラスで、このクラスを使って画像ファイルを読み込むことができます。  \n",
    "ファイルの形式は拡張子で自動的に判定され、JPEGなどデコードも自動的に行われます。  \n",
    "\n",
    "Imageクラスのオブジェクトはそのままでも`pyplot.imshow()`メソッドで表示ができますが、`numpy.array()`メソッドでNumPy配列に変換することができます。\n",
    "\n",
    "まず、著作権フリーの画像をダウンロードします。"
   ]
  },
  {
   "cell_type": "code",
   "execution_count": null,
   "metadata": {},
   "outputs": [],
   "source": [
    "import requests\n",
    "\n",
    "url = 'https://images.pexels.com/photos/617278/pexels-photo-617278.jpeg'  \n",
    "r = requests.get(url)\n",
    "\n",
    "with open('pexels-photo-617278.jpeg', 'wb') as f:  \n",
    "    f.write(r.content)\n"
   ]
  },
  {
   "cell_type": "markdown",
   "metadata": {},
   "source": [
    "PILを使って画像を読み込み、表示します。"
   ]
  },
  {
   "cell_type": "code",
   "execution_count": null,
   "metadata": {},
   "outputs": [],
   "source": [
    "from PIL import Image\n",
    "\n",
    "img = Image.open('pexels-photo-617278.jpeg')\n",
    "img_array = np.array(img)\n",
    "print(img_array.shape)\n",
    "\n",
    "plt.imshow(img_array)\n",
    "plt.axis('off')  # 座標軸を隠す\n",
    "plt.show()"
   ]
  },
  {
   "cell_type": "markdown",
   "metadata": {},
   "source": [
    "### 画像のサイズ変更"
   ]
  },
  {
   "cell_type": "markdown",
   "metadata": {},
   "source": [
    "機械学習などでは画像を同じサイズに揃えることが必要です。`Image.resize()`メソッドを使うことで簡単にサイズ変更が可能です。"
   ]
  },
  {
   "cell_type": "code",
   "execution_count": null,
   "metadata": {},
   "outputs": [],
   "source": [
    "square_img = img.resize((512,512))\n",
    "\n",
    "plt.imshow(square_img)\n",
    "plt.show()"
   ]
  },
  {
   "cell_type": "markdown",
   "metadata": {},
   "source": [
    "Pillowを使った画像処理については公式ドキュメントやブログ記事を参照ください。\n",
    "\n",
    "- [公式ドキュメント（英語）](https://pillow.readthedocs.io/en/stable/)\n",
    "- [Pythonの画像処理ライブラリPillow(PIL)の使い方-note.nkmk.me](https://note.nkmk.me/python-pillow-basic/)"
   ]
  },
  {
   "cell_type": "markdown",
   "metadata": {},
   "source": [
    "## 参考書籍"
   ]
  },
  {
   "cell_type": "markdown",
   "metadata": {},
   "source": [
    "Pythonを科学技術計算に利用するのであれば、下記の電子書籍がおすすめです。固定レイアウトとリフロー版があります。いずれも1,200円ですがKindle Unlimitedの対象であるためKindle Unlimitedの契約者は無料で購読できます。\n",
    "\n",
    "- [Pythonによる科学技術計算 基礎編 [プリント・レプリカ] Kindle版](https://www.amazon.co.jp/dp/B01EPEVLG8/)\n",
    "- [Pythonによる科学技術計算 基礎編 [リフロー版] Kindle版](https://www.amazon.co.jp/dp/B06VWHC5RJ/)\n",
    "\n",
    "![Pythonによる科学技術計算 基礎編 ](https://images-fe.ssl-images-amazon.com/images/I/41BIBoq0caL.jpg)"
   ]
  },
  {
   "cell_type": "code",
   "execution_count": null,
   "metadata": {},
   "outputs": [],
   "source": []
  }
 ],
 "metadata": {
  "kernelspec": {
   "display_name": "Python 3",
   "language": "python",
   "name": "python3"
  },
  "language_info": {
   "codemirror_mode": {
    "name": "ipython",
    "version": 3
   },
   "file_extension": ".py",
   "mimetype": "text/x-python",
   "name": "python",
   "nbconvert_exporter": "python",
   "pygments_lexer": "ipython3",
   "version": "3.6.5"
  },
  "varInspector": {
   "cols": {
    "lenName": 16,
    "lenType": 16,
    "lenVar": 40
   },
   "kernels_config": {
    "python": {
     "delete_cmd_postfix": "",
     "delete_cmd_prefix": "del ",
     "library": "var_list.py",
     "varRefreshCmd": "print(var_dic_list())"
    },
    "r": {
     "delete_cmd_postfix": ") ",
     "delete_cmd_prefix": "rm(",
     "library": "var_list.r",
     "varRefreshCmd": "cat(var_dic_list()) "
    }
   },
   "types_to_exclude": [
    "module",
    "function",
    "builtin_function_or_method",
    "instance",
    "_Feature"
   ],
   "window_display": false
  }
 },
 "nbformat": 4,
 "nbformat_minor": 2
}
